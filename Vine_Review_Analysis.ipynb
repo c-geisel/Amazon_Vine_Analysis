{
 "cells": [
  {
   "cell_type": "code",
   "execution_count": 2,
   "id": "39dde6e4",
   "metadata": {},
   "outputs": [
    {
     "data": {
      "text/html": [
       "<div>\n",
       "<style scoped>\n",
       "    .dataframe tbody tr th:only-of-type {\n",
       "        vertical-align: middle;\n",
       "    }\n",
       "\n",
       "    .dataframe tbody tr th {\n",
       "        vertical-align: top;\n",
       "    }\n",
       "\n",
       "    .dataframe thead th {\n",
       "        text-align: right;\n",
       "    }\n",
       "</style>\n",
       "<table border=\"1\" class=\"dataframe\">\n",
       "  <thead>\n",
       "    <tr style=\"text-align: right;\">\n",
       "      <th></th>\n",
       "      <th>review_id</th>\n",
       "      <th>star_rating</th>\n",
       "      <th>helpful_votes</th>\n",
       "      <th>total_votes</th>\n",
       "      <th>vine</th>\n",
       "      <th>verified_purchase</th>\n",
       "    </tr>\n",
       "  </thead>\n",
       "  <tbody>\n",
       "    <tr>\n",
       "      <th>0</th>\n",
       "      <td>R1NBG94582SJE2</td>\n",
       "      <td>5</td>\n",
       "      <td>0</td>\n",
       "      <td>0</td>\n",
       "      <td>N</td>\n",
       "      <td>Y</td>\n",
       "    </tr>\n",
       "    <tr>\n",
       "      <th>1</th>\n",
       "      <td>R273DCA6Y0H9V7</td>\n",
       "      <td>5</td>\n",
       "      <td>0</td>\n",
       "      <td>0</td>\n",
       "      <td>N</td>\n",
       "      <td>Y</td>\n",
       "    </tr>\n",
       "    <tr>\n",
       "      <th>2</th>\n",
       "      <td>RQVOXO7WUOFK6</td>\n",
       "      <td>2</td>\n",
       "      <td>1</td>\n",
       "      <td>1</td>\n",
       "      <td>N</td>\n",
       "      <td>Y</td>\n",
       "    </tr>\n",
       "    <tr>\n",
       "      <th>3</th>\n",
       "      <td>R1KWKSF21PO6HO</td>\n",
       "      <td>5</td>\n",
       "      <td>0</td>\n",
       "      <td>0</td>\n",
       "      <td>N</td>\n",
       "      <td>Y</td>\n",
       "    </tr>\n",
       "    <tr>\n",
       "      <th>4</th>\n",
       "      <td>R38H3UO1J190GI</td>\n",
       "      <td>5</td>\n",
       "      <td>1</td>\n",
       "      <td>1</td>\n",
       "      <td>N</td>\n",
       "      <td>Y</td>\n",
       "    </tr>\n",
       "    <tr>\n",
       "      <th>5</th>\n",
       "      <td>R3NPIFKLR19NQA</td>\n",
       "      <td>3</td>\n",
       "      <td>0</td>\n",
       "      <td>0</td>\n",
       "      <td>N</td>\n",
       "      <td>Y</td>\n",
       "    </tr>\n",
       "    <tr>\n",
       "      <th>6</th>\n",
       "      <td>R3MBE6UCH3435E</td>\n",
       "      <td>3</td>\n",
       "      <td>8</td>\n",
       "      <td>8</td>\n",
       "      <td>N</td>\n",
       "      <td>N</td>\n",
       "    </tr>\n",
       "    <tr>\n",
       "      <th>7</th>\n",
       "      <td>R2E7A4FF0PVY5Q</td>\n",
       "      <td>5</td>\n",
       "      <td>0</td>\n",
       "      <td>1</td>\n",
       "      <td>N</td>\n",
       "      <td>Y</td>\n",
       "    </tr>\n",
       "    <tr>\n",
       "      <th>8</th>\n",
       "      <td>R3R8JDQ2BF4NM</td>\n",
       "      <td>5</td>\n",
       "      <td>0</td>\n",
       "      <td>2</td>\n",
       "      <td>N</td>\n",
       "      <td>Y</td>\n",
       "    </tr>\n",
       "    <tr>\n",
       "      <th>9</th>\n",
       "      <td>R1YND4BS823GN5</td>\n",
       "      <td>1</td>\n",
       "      <td>0</td>\n",
       "      <td>0</td>\n",
       "      <td>N</td>\n",
       "      <td>Y</td>\n",
       "    </tr>\n",
       "  </tbody>\n",
       "</table>\n",
       "</div>"
      ],
      "text/plain": [
       "        review_id  star_rating  helpful_votes  total_votes vine  \\\n",
       "0  R1NBG94582SJE2            5              0            0    N   \n",
       "1  R273DCA6Y0H9V7            5              0            0    N   \n",
       "2   RQVOXO7WUOFK6            2              1            1    N   \n",
       "3  R1KWKSF21PO6HO            5              0            0    N   \n",
       "4  R38H3UO1J190GI            5              1            1    N   \n",
       "5  R3NPIFKLR19NQA            3              0            0    N   \n",
       "6  R3MBE6UCH3435E            3              8            8    N   \n",
       "7  R2E7A4FF0PVY5Q            5              0            1    N   \n",
       "8   R3R8JDQ2BF4NM            5              0            2    N   \n",
       "9  R1YND4BS823GN5            1              0            0    N   \n",
       "\n",
       "  verified_purchase  \n",
       "0                 Y  \n",
       "1                 Y  \n",
       "2                 Y  \n",
       "3                 Y  \n",
       "4                 Y  \n",
       "5                 Y  \n",
       "6                 N  \n",
       "7                 Y  \n",
       "8                 Y  \n",
       "9                 Y  "
      ]
     },
     "execution_count": 2,
     "metadata": {},
     "output_type": "execute_result"
    }
   ],
   "source": [
    "# Dependencies and Setup\n",
    "import pandas as pd\n",
    "\n",
    "#Read in csv\n",
    "vine_df = pd.read_csv(\"vine_table.csv\")\n",
    "vine_df.head(10)"
   ]
  },
  {
   "cell_type": "code",
   "execution_count": 3,
   "id": "a0951a05",
   "metadata": {},
   "outputs": [
    {
     "data": {
      "text/html": [
       "<div>\n",
       "<style scoped>\n",
       "    .dataframe tbody tr th:only-of-type {\n",
       "        vertical-align: middle;\n",
       "    }\n",
       "\n",
       "    .dataframe tbody tr th {\n",
       "        vertical-align: top;\n",
       "    }\n",
       "\n",
       "    .dataframe thead th {\n",
       "        text-align: right;\n",
       "    }\n",
       "</style>\n",
       "<table border=\"1\" class=\"dataframe\">\n",
       "  <thead>\n",
       "    <tr style=\"text-align: right;\">\n",
       "      <th></th>\n",
       "      <th>review_id</th>\n",
       "      <th>star_rating</th>\n",
       "      <th>helpful_votes</th>\n",
       "      <th>total_votes</th>\n",
       "      <th>vine</th>\n",
       "      <th>verified_purchase</th>\n",
       "    </tr>\n",
       "  </thead>\n",
       "  <tbody>\n",
       "    <tr>\n",
       "      <th>66</th>\n",
       "      <td>R3FJ319XA6ZAUQ</td>\n",
       "      <td>2</td>\n",
       "      <td>21</td>\n",
       "      <td>25</td>\n",
       "      <td>N</td>\n",
       "      <td>Y</td>\n",
       "    </tr>\n",
       "    <tr>\n",
       "      <th>124</th>\n",
       "      <td>R6HRF25HUMIIE</td>\n",
       "      <td>5</td>\n",
       "      <td>24</td>\n",
       "      <td>24</td>\n",
       "      <td>N</td>\n",
       "      <td>Y</td>\n",
       "    </tr>\n",
       "    <tr>\n",
       "      <th>173</th>\n",
       "      <td>R2CTAK3APOFKZU</td>\n",
       "      <td>5</td>\n",
       "      <td>37</td>\n",
       "      <td>38</td>\n",
       "      <td>N</td>\n",
       "      <td>N</td>\n",
       "    </tr>\n",
       "    <tr>\n",
       "      <th>217</th>\n",
       "      <td>R1WQZB0CAEPQBU</td>\n",
       "      <td>2</td>\n",
       "      <td>85</td>\n",
       "      <td>128</td>\n",
       "      <td>N</td>\n",
       "      <td>N</td>\n",
       "    </tr>\n",
       "    <tr>\n",
       "      <th>221</th>\n",
       "      <td>RHZDSA48HVRVK</td>\n",
       "      <td>5</td>\n",
       "      <td>49</td>\n",
       "      <td>86</td>\n",
       "      <td>N</td>\n",
       "      <td>N</td>\n",
       "    </tr>\n",
       "  </tbody>\n",
       "</table>\n",
       "</div>"
      ],
      "text/plain": [
       "          review_id  star_rating  helpful_votes  total_votes vine  \\\n",
       "66   R3FJ319XA6ZAUQ            2             21           25    N   \n",
       "124   R6HRF25HUMIIE            5             24           24    N   \n",
       "173  R2CTAK3APOFKZU            5             37           38    N   \n",
       "217  R1WQZB0CAEPQBU            2             85          128    N   \n",
       "221   RHZDSA48HVRVK            5             49           86    N   \n",
       "\n",
       "    verified_purchase  \n",
       "66                  Y  \n",
       "124                 Y  \n",
       "173                 N  \n",
       "217                 N  \n",
       "221                 N  "
      ]
     },
     "execution_count": 3,
     "metadata": {},
     "output_type": "execute_result"
    }
   ],
   "source": [
    "filtered_vine_df = vine_df[vine_df['total_votes'] >= 20]\n",
    "filtered_vine_df.head()"
   ]
  },
  {
   "cell_type": "code",
   "execution_count": 4,
   "id": "e36f520f",
   "metadata": {},
   "outputs": [
    {
     "data": {
      "text/html": [
       "<div>\n",
       "<style scoped>\n",
       "    .dataframe tbody tr th:only-of-type {\n",
       "        vertical-align: middle;\n",
       "    }\n",
       "\n",
       "    .dataframe tbody tr th {\n",
       "        vertical-align: top;\n",
       "    }\n",
       "\n",
       "    .dataframe thead th {\n",
       "        text-align: right;\n",
       "    }\n",
       "</style>\n",
       "<table border=\"1\" class=\"dataframe\">\n",
       "  <thead>\n",
       "    <tr style=\"text-align: right;\">\n",
       "      <th></th>\n",
       "      <th>review_id</th>\n",
       "      <th>star_rating</th>\n",
       "      <th>helpful_votes</th>\n",
       "      <th>total_votes</th>\n",
       "      <th>vine</th>\n",
       "      <th>verified_purchase</th>\n",
       "    </tr>\n",
       "  </thead>\n",
       "  <tbody>\n",
       "    <tr>\n",
       "      <th>66</th>\n",
       "      <td>R3FJ319XA6ZAUQ</td>\n",
       "      <td>2</td>\n",
       "      <td>21</td>\n",
       "      <td>25</td>\n",
       "      <td>N</td>\n",
       "      <td>Y</td>\n",
       "    </tr>\n",
       "    <tr>\n",
       "      <th>124</th>\n",
       "      <td>R6HRF25HUMIIE</td>\n",
       "      <td>5</td>\n",
       "      <td>24</td>\n",
       "      <td>24</td>\n",
       "      <td>N</td>\n",
       "      <td>Y</td>\n",
       "    </tr>\n",
       "    <tr>\n",
       "      <th>173</th>\n",
       "      <td>R2CTAK3APOFKZU</td>\n",
       "      <td>5</td>\n",
       "      <td>37</td>\n",
       "      <td>38</td>\n",
       "      <td>N</td>\n",
       "      <td>N</td>\n",
       "    </tr>\n",
       "    <tr>\n",
       "      <th>217</th>\n",
       "      <td>R1WQZB0CAEPQBU</td>\n",
       "      <td>2</td>\n",
       "      <td>85</td>\n",
       "      <td>128</td>\n",
       "      <td>N</td>\n",
       "      <td>N</td>\n",
       "    </tr>\n",
       "    <tr>\n",
       "      <th>221</th>\n",
       "      <td>RHZDSA48HVRVK</td>\n",
       "      <td>5</td>\n",
       "      <td>49</td>\n",
       "      <td>86</td>\n",
       "      <td>N</td>\n",
       "      <td>N</td>\n",
       "    </tr>\n",
       "  </tbody>\n",
       "</table>\n",
       "</div>"
      ],
      "text/plain": [
       "          review_id  star_rating  helpful_votes  total_votes vine  \\\n",
       "66   R3FJ319XA6ZAUQ            2             21           25    N   \n",
       "124   R6HRF25HUMIIE            5             24           24    N   \n",
       "173  R2CTAK3APOFKZU            5             37           38    N   \n",
       "217  R1WQZB0CAEPQBU            2             85          128    N   \n",
       "221   RHZDSA48HVRVK            5             49           86    N   \n",
       "\n",
       "    verified_purchase  \n",
       "66                  Y  \n",
       "124                 Y  \n",
       "173                 N  \n",
       "217                 N  \n",
       "221                 N  "
      ]
     },
     "execution_count": 4,
     "metadata": {},
     "output_type": "execute_result"
    }
   ],
   "source": [
    "helpful = filtered_vine_df['helpful_votes']\n",
    "total = filtered_vine_df['total_votes']\n",
    "\n",
    "#filter for rows where helpful/total is greater than or equal to 50 percent \n",
    "helpful_total_df = filtered_vine_df[helpful/total >= 0.5]\n",
    "helpful_total_df.head()"
   ]
  },
  {
   "cell_type": "code",
   "execution_count": 5,
   "id": "e017a1d7",
   "metadata": {},
   "outputs": [
    {
     "data": {
      "text/html": [
       "<div>\n",
       "<style scoped>\n",
       "    .dataframe tbody tr th:only-of-type {\n",
       "        vertical-align: middle;\n",
       "    }\n",
       "\n",
       "    .dataframe tbody tr th {\n",
       "        vertical-align: top;\n",
       "    }\n",
       "\n",
       "    .dataframe thead th {\n",
       "        text-align: right;\n",
       "    }\n",
       "</style>\n",
       "<table border=\"1\" class=\"dataframe\">\n",
       "  <thead>\n",
       "    <tr style=\"text-align: right;\">\n",
       "      <th></th>\n",
       "      <th>review_id</th>\n",
       "      <th>star_rating</th>\n",
       "      <th>helpful_votes</th>\n",
       "      <th>total_votes</th>\n",
       "      <th>vine</th>\n",
       "      <th>verified_purchase</th>\n",
       "    </tr>\n",
       "  </thead>\n",
       "  <tbody>\n",
       "    <tr>\n",
       "      <th>4369</th>\n",
       "      <td>R37L6YZDX0P3J9</td>\n",
       "      <td>1</td>\n",
       "      <td>28</td>\n",
       "      <td>35</td>\n",
       "      <td>Y</td>\n",
       "      <td>N</td>\n",
       "    </tr>\n",
       "    <tr>\n",
       "      <th>5626</th>\n",
       "      <td>R2JT4XRQO2KASL</td>\n",
       "      <td>5</td>\n",
       "      <td>38</td>\n",
       "      <td>41</td>\n",
       "      <td>Y</td>\n",
       "      <td>N</td>\n",
       "    </tr>\n",
       "    <tr>\n",
       "      <th>32654</th>\n",
       "      <td>R10XRAOBFFSTL2</td>\n",
       "      <td>5</td>\n",
       "      <td>44</td>\n",
       "      <td>47</td>\n",
       "      <td>Y</td>\n",
       "      <td>N</td>\n",
       "    </tr>\n",
       "    <tr>\n",
       "      <th>34033</th>\n",
       "      <td>R1X8F3R1K1SF5</td>\n",
       "      <td>2</td>\n",
       "      <td>30</td>\n",
       "      <td>31</td>\n",
       "      <td>Y</td>\n",
       "      <td>N</td>\n",
       "    </tr>\n",
       "    <tr>\n",
       "      <th>57729</th>\n",
       "      <td>R326QV66CKBB43</td>\n",
       "      <td>4</td>\n",
       "      <td>127</td>\n",
       "      <td>139</td>\n",
       "      <td>Y</td>\n",
       "      <td>N</td>\n",
       "    </tr>\n",
       "  </tbody>\n",
       "</table>\n",
       "</div>"
      ],
      "text/plain": [
       "            review_id  star_rating  helpful_votes  total_votes vine  \\\n",
       "4369   R37L6YZDX0P3J9            1             28           35    Y   \n",
       "5626   R2JT4XRQO2KASL            5             38           41    Y   \n",
       "32654  R10XRAOBFFSTL2            5             44           47    Y   \n",
       "34033   R1X8F3R1K1SF5            2             30           31    Y   \n",
       "57729  R326QV66CKBB43            4            127          139    Y   \n",
       "\n",
       "      verified_purchase  \n",
       "4369                  N  \n",
       "5626                  N  \n",
       "32654                 N  \n",
       "34033                 N  \n",
       "57729                 N  "
      ]
     },
     "execution_count": 5,
     "metadata": {},
     "output_type": "execute_result"
    }
   ],
   "source": [
    "vine = helpful_total_df['vine']\n",
    "\n",
    "#retrieve all the rows where a review was written as part of the Vine program (paid)\n",
    "paid_reviews_df = helpful_total_df[vine == 'Y']\n",
    "paid_reviews_df.head()"
   ]
  },
  {
   "cell_type": "code",
   "execution_count": 6,
   "id": "97aebc1f",
   "metadata": {},
   "outputs": [
    {
     "data": {
      "text/html": [
       "<div>\n",
       "<style scoped>\n",
       "    .dataframe tbody tr th:only-of-type {\n",
       "        vertical-align: middle;\n",
       "    }\n",
       "\n",
       "    .dataframe tbody tr th {\n",
       "        vertical-align: top;\n",
       "    }\n",
       "\n",
       "    .dataframe thead th {\n",
       "        text-align: right;\n",
       "    }\n",
       "</style>\n",
       "<table border=\"1\" class=\"dataframe\">\n",
       "  <thead>\n",
       "    <tr style=\"text-align: right;\">\n",
       "      <th></th>\n",
       "      <th>review_id</th>\n",
       "      <th>star_rating</th>\n",
       "      <th>helpful_votes</th>\n",
       "      <th>total_votes</th>\n",
       "      <th>vine</th>\n",
       "      <th>verified_purchase</th>\n",
       "    </tr>\n",
       "  </thead>\n",
       "  <tbody>\n",
       "    <tr>\n",
       "      <th>66</th>\n",
       "      <td>R3FJ319XA6ZAUQ</td>\n",
       "      <td>2</td>\n",
       "      <td>21</td>\n",
       "      <td>25</td>\n",
       "      <td>N</td>\n",
       "      <td>Y</td>\n",
       "    </tr>\n",
       "    <tr>\n",
       "      <th>124</th>\n",
       "      <td>R6HRF25HUMIIE</td>\n",
       "      <td>5</td>\n",
       "      <td>24</td>\n",
       "      <td>24</td>\n",
       "      <td>N</td>\n",
       "      <td>Y</td>\n",
       "    </tr>\n",
       "    <tr>\n",
       "      <th>173</th>\n",
       "      <td>R2CTAK3APOFKZU</td>\n",
       "      <td>5</td>\n",
       "      <td>37</td>\n",
       "      <td>38</td>\n",
       "      <td>N</td>\n",
       "      <td>N</td>\n",
       "    </tr>\n",
       "    <tr>\n",
       "      <th>217</th>\n",
       "      <td>R1WQZB0CAEPQBU</td>\n",
       "      <td>2</td>\n",
       "      <td>85</td>\n",
       "      <td>128</td>\n",
       "      <td>N</td>\n",
       "      <td>N</td>\n",
       "    </tr>\n",
       "    <tr>\n",
       "      <th>221</th>\n",
       "      <td>RHZDSA48HVRVK</td>\n",
       "      <td>5</td>\n",
       "      <td>49</td>\n",
       "      <td>86</td>\n",
       "      <td>N</td>\n",
       "      <td>N</td>\n",
       "    </tr>\n",
       "  </tbody>\n",
       "</table>\n",
       "</div>"
      ],
      "text/plain": [
       "          review_id  star_rating  helpful_votes  total_votes vine  \\\n",
       "66   R3FJ319XA6ZAUQ            2             21           25    N   \n",
       "124   R6HRF25HUMIIE            5             24           24    N   \n",
       "173  R2CTAK3APOFKZU            5             37           38    N   \n",
       "217  R1WQZB0CAEPQBU            2             85          128    N   \n",
       "221   RHZDSA48HVRVK            5             49           86    N   \n",
       "\n",
       "    verified_purchase  \n",
       "66                  Y  \n",
       "124                 Y  \n",
       "173                 N  \n",
       "217                 N  \n",
       "221                 N  "
      ]
     },
     "execution_count": 6,
     "metadata": {},
     "output_type": "execute_result"
    }
   ],
   "source": [
    "#retrieve all the rows where the review was not part of the Vine program (unpaid)\n",
    "unpaid_reviews_df = helpful_total_df[vine == 'N']\n",
    "unpaid_reviews_df.head()"
   ]
  },
  {
   "cell_type": "code",
   "execution_count": 7,
   "id": "9cda64d4",
   "metadata": {},
   "outputs": [
    {
     "data": {
      "text/plain": [
       "51123"
      ]
     },
     "execution_count": 7,
     "metadata": {},
     "output_type": "execute_result"
    }
   ],
   "source": [
    "# Determine the total number of reviews\n",
    "total_reviews = len(helpful_total_df)\n",
    "total_reviews"
   ]
  },
  {
   "cell_type": "code",
   "execution_count": 8,
   "id": "67c95867",
   "metadata": {},
   "outputs": [
    {
     "data": {
      "text/plain": [
       "607"
      ]
     },
     "execution_count": 8,
     "metadata": {},
     "output_type": "execute_result"
    }
   ],
   "source": [
    "#Determine the total number of paid reviews\n",
    "paid_reviews= len(paid_reviews_df)\n",
    "paid_reviews\n"
   ]
  },
  {
   "cell_type": "code",
   "execution_count": 9,
   "id": "705e54f6",
   "metadata": {},
   "outputs": [
    {
     "data": {
      "text/plain": [
       "257"
      ]
     },
     "execution_count": 9,
     "metadata": {},
     "output_type": "execute_result"
    }
   ],
   "source": [
    "#Determine the number of paid 5-star reviews\n",
    "five_star_reviews_paid = len(paid_reviews_df[paid_reviews_df['star_rating'] ==5])\n",
    "five_star_reviews_paid\n"
   ]
  },
  {
   "cell_type": "code",
   "execution_count": 13,
   "id": "1b8c1536",
   "metadata": {},
   "outputs": [
    {
     "data": {
      "text/plain": [
       "50516"
      ]
     },
     "execution_count": 13,
     "metadata": {},
     "output_type": "execute_result"
    }
   ],
   "source": [
    "#Determine the total number of paid reviews\n",
    "unpaid_reviews= len(unpaid_reviews_df)\n",
    "unpaid_reviews"
   ]
  },
  {
   "cell_type": "code",
   "execution_count": 10,
   "id": "7f4f7453",
   "metadata": {},
   "outputs": [
    {
     "data": {
      "text/plain": [
       "25216"
      ]
     },
     "execution_count": 10,
     "metadata": {},
     "output_type": "execute_result"
    }
   ],
   "source": [
    "#Determine the number of unpaid 5-star reviews\n",
    "five_star_reviews_unpaid = len(unpaid_reviews_df[unpaid_reviews_df['star_rating'] == 5])\n",
    "five_star_reviews_unpaid"
   ]
  },
  {
   "cell_type": "code",
   "execution_count": 14,
   "id": "720124c7",
   "metadata": {},
   "outputs": [
    {
     "name": "stdout",
     "output_type": "stream",
     "text": [
      "The percentage of paid 5 star reviews is 42.33937397034596%.\n"
     ]
    }
   ],
   "source": [
    "# Determine the percentage of 5-star reviews for paid reviews\n",
    "paid_5_star_percentage = (five_star_reviews_paid / paid_reviews)*100\n",
    "print(f\"The percentage of paid 5 star reviews is {paid_5_star_percentage}%.\")"
   ]
  },
  {
   "cell_type": "code",
   "execution_count": 15,
   "id": "1a27c8f1",
   "metadata": {},
   "outputs": [
    {
     "name": "stdout",
     "output_type": "stream",
     "text": [
      "The percentage of unpaid 5 star reviews is 49.91685802518014%.\n"
     ]
    }
   ],
   "source": [
    "# Determine the percentage of 5-star reviews for unpaid reviews\n",
    "unpaid_5_star_percentage = (five_star_reviews_unpaid / unpaid_reviews)*100\n",
    "print(f\"The percentage of unpaid 5 star reviews is {unpaid_5_star_percentage}%.\")"
   ]
  },
  {
   "cell_type": "code",
   "execution_count": null,
   "id": "5b4f8cc9",
   "metadata": {},
   "outputs": [],
   "source": []
  }
 ],
 "metadata": {
  "kernelspec": {
   "display_name": "Python 3",
   "language": "python",
   "name": "python3"
  },
  "language_info": {
   "codemirror_mode": {
    "name": "ipython",
    "version": 3
   },
   "file_extension": ".py",
   "mimetype": "text/x-python",
   "name": "python",
   "nbconvert_exporter": "python",
   "pygments_lexer": "ipython3",
   "version": "3.7.10"
  }
 },
 "nbformat": 4,
 "nbformat_minor": 5
}
